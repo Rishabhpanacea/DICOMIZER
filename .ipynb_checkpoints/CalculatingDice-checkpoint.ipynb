{
 "cells": [
  {
   "cell_type": "code",
   "execution_count": 1,
   "id": "b612037f-4cce-4511-a969-bf963e527756",
   "metadata": {},
   "outputs": [],
   "source": [
    "import os"
   ]
  },
  {
   "cell_type": "code",
   "execution_count": 2,
   "id": "42b695e7-4fa8-4d3e-9a4e-4049a664bafa",
   "metadata": {},
   "outputs": [],
   "source": [
    "SegDir = \"C:/Users/Rishabh/Downloads/VS-MC-RC-Segmentations_with_pathname_spreadsheet-Release2023 (1)/VS-MC-RC-Segmentations_with_pathname_spreadsheet-Release2023\""
   ]
  },
  {
   "cell_type": "code",
   "execution_count": 3,
   "id": "d7b7305f-e53f-4922-b11d-ace186efb833",
   "metadata": {},
   "outputs": [
    {
     "data": {
      "text/plain": [
       "['.DS_Store',\n",
       " 'Vestibular-Schwannoma-MC-RC_NIfTI-segmentation-info3.csv',\n",
       " 'VS-MC-RC segmentations-NIfTI-Release 2023']"
      ]
     },
     "execution_count": 3,
     "metadata": {},
     "output_type": "execute_result"
    }
   ],
   "source": [
    "os.listdir(SegDir)"
   ]
  },
  {
   "cell_type": "code",
   "execution_count": 4,
   "id": "b8eea432-ec25-4ebc-92f4-b8ede5e769c7",
   "metadata": {},
   "outputs": [],
   "source": [
    "segemntsdir = os.path.join(SegDir,'VS-MC-RC segmentations-NIfTI-Release 2023')\n",
    "referenceCSV = os.path.join(SegDir,'Vestibular-Schwannoma-MC-RC_NIfTI-segmentation-info3.csv')"
   ]
  },
  {
   "cell_type": "code",
   "execution_count": 13,
   "id": "42364050-12cd-4b6d-94b0-cf6c3eccc861",
   "metadata": {},
   "outputs": [],
   "source": [
    "DataDir = \"C:/Users/Rishabh/Desktop/manifest-1737618971120\""
   ]
  },
  {
   "cell_type": "code",
   "execution_count": 14,
   "id": "ce8c04b5-5427-4f26-ad8c-f531b2ed76c1",
   "metadata": {},
   "outputs": [
    {
     "data": {
      "text/plain": [
       "['metadata.csv', 'Vestibular-Schwannoma-MC-RC']"
      ]
     },
     "execution_count": 14,
     "metadata": {},
     "output_type": "execute_result"
    }
   ],
   "source": [
    "os.listdir(DataDir)"
   ]
  },
  {
   "cell_type": "code",
   "execution_count": 15,
   "id": "79ca141a-cfd2-400c-880d-f841aee8818b",
   "metadata": {},
   "outputs": [],
   "source": [
    "Vestibular_Schwannoma_MC_RC = os.path.join(DataDir,'Vestibular-Schwannoma-MC-RC')\n",
    "metadata = os.path.join(DataDir, 'metadata.csv')"
   ]
  },
  {
   "cell_type": "code",
   "execution_count": 31,
   "id": "48224c70-af9e-430e-be7a-9ef6d21a7c21",
   "metadata": {},
   "outputs": [
    {
     "name": "stdout",
     "output_type": "stream",
     "text": [
      "354\n",
      "354\n"
     ]
    }
   ],
   "source": [
    "import pandas as pd\n",
    "import numpy as np\n",
    "\n",
    "# Load CSV file\n",
    "dfmeta = pd.read_csv(metadata)\n",
    "\n",
    "# Display first few rows\n",
    "DataSeriesUIDs = np.array(dfmeta['Series UID'].tolist())\n",
    "print(len(DataSeriesUIDs))\n",
    "print(len(np.unique(DataSeriesUIDs)))"
   ]
  },
  {
   "cell_type": "code",
   "execution_count": 32,
   "id": "f37106fb-a6de-4525-8522-459f3d993831",
   "metadata": {},
   "outputs": [
    {
     "name": "stdout",
     "output_type": "stream",
     "text": [
      "487\n",
      "487\n"
     ]
    }
   ],
   "source": [
    "import pandas as pd\n",
    "\n",
    "# Load CSV file\n",
    "dfseg = pd.read_csv(referenceCSV)\n",
    "\n",
    "# Display first few rows\n",
    "# dfseg['series_instance_uid'].tolist()\n",
    "\n",
    "SegSeriesUIDs = np.array(dfseg['series_instance_uid'].tolist())\n",
    "print(len(SegSeriesUIDs))\n",
    "print(len(np.unique(SegSeriesUIDs)))"
   ]
  },
  {
   "cell_type": "code",
   "execution_count": 43,
   "id": "ddc31b40-04f3-4cb0-a641-d393da1c7601",
   "metadata": {},
   "outputs": [
    {
     "data": {
      "text/html": [
       "<div>\n",
       "<style scoped>\n",
       "    .dataframe tbody tr th:only-of-type {\n",
       "        vertical-align: middle;\n",
       "    }\n",
       "\n",
       "    .dataframe tbody tr th {\n",
       "        vertical-align: top;\n",
       "    }\n",
       "\n",
       "    .dataframe thead th {\n",
       "        text-align: right;\n",
       "    }\n",
       "</style>\n",
       "<table border=\"1\" class=\"dataframe\">\n",
       "  <thead>\n",
       "    <tr style=\"text-align: right;\">\n",
       "      <th></th>\n",
       "      <th>collection</th>\n",
       "      <th>site</th>\n",
       "      <th>patient_id</th>\n",
       "      <th>patient_age</th>\n",
       "      <th>study_instance_uid</th>\n",
       "      <th>study_date</th>\n",
       "      <th>study_description</th>\n",
       "      <th>series_instance_uid</th>\n",
       "      <th>series_date</th>\n",
       "      <th>series_description</th>\n",
       "      <th>series_number</th>\n",
       "      <th>dicom_file_type</th>\n",
       "      <th>modality</th>\n",
       "      <th>num_files</th>\n",
       "      <th>SegmentationPath</th>\n",
       "    </tr>\n",
       "  </thead>\n",
       "  <tbody>\n",
       "    <tr>\n",
       "      <th>0</th>\n",
       "      <td>Vestibular-Schwannoma-MC-RC</td>\n",
       "      <td>KCL</td>\n",
       "      <td>VS-SEG-003</td>\n",
       "      <td>000Y</td>\n",
       "      <td>1.3.6.1.4.1.14519.5.2.1.2341270183576782445800...</td>\n",
       "      <td>12/19/93</td>\n",
       "      <td>_t1of5_NH External Images for PACS</td>\n",
       "      <td>1.3.6.1.4.1.14519.5.2.1.3050341391500110719449...</td>\n",
       "      <td>4/30/94</td>\n",
       "      <td>_T2_I.A.C.     * T2 TSE</td>\n",
       "      <td>401</td>\n",
       "      <td>MR Image Storage</td>\n",
       "      <td>MR</td>\n",
       "      <td>30</td>\n",
       "      <td>VS-SEG-003/1993-12-19/seg_T2.nii.gz</td>\n",
       "    </tr>\n",
       "    <tr>\n",
       "      <th>1</th>\n",
       "      <td>Vestibular-Schwannoma-MC-RC</td>\n",
       "      <td>KCL</td>\n",
       "      <td>VS-SEG-003</td>\n",
       "      <td>000Y</td>\n",
       "      <td>1.3.6.1.4.1.14519.5.2.1.2081468945939582744939...</td>\n",
       "      <td>4/8/95</td>\n",
       "      <td>_t3of5_NH MRI IAMS</td>\n",
       "      <td>1.3.6.1.4.1.14519.5.2.1.1921559877251454212202...</td>\n",
       "      <td>4/8/95</td>\n",
       "      <td>_T1_Ax FSPGR T1 +C</td>\n",
       "      <td>6</td>\n",
       "      <td>MR Image Storage</td>\n",
       "      <td>MR</td>\n",
       "      <td>116</td>\n",
       "      <td>VS-SEG-003/1995-04-08/seg_T1.nii.gz</td>\n",
       "    </tr>\n",
       "    <tr>\n",
       "      <th>2</th>\n",
       "      <td>Vestibular-Schwannoma-MC-RC</td>\n",
       "      <td>KCL</td>\n",
       "      <td>VS-SEG-003</td>\n",
       "      <td>000Y</td>\n",
       "      <td>1.3.6.1.4.1.14519.5.2.1.2953087395063994263339...</td>\n",
       "      <td>8/30/97</td>\n",
       "      <td>_t5of5_NH MRI IAMS post Gad</td>\n",
       "      <td>1.3.6.1.4.1.14519.5.2.1.2727370423178642071567...</td>\n",
       "      <td>8/30/97</td>\n",
       "      <td>_T1_t1vol+gad cor mpr</td>\n",
       "      <td>8</td>\n",
       "      <td>MR Image Storage</td>\n",
       "      <td>MR</td>\n",
       "      <td>50</td>\n",
       "      <td>VS-SEG-003/1997-08-30/seg_T1.nii.gz</td>\n",
       "    </tr>\n",
       "    <tr>\n",
       "      <th>3</th>\n",
       "      <td>Vestibular-Schwannoma-MC-RC</td>\n",
       "      <td>KCL</td>\n",
       "      <td>VS-SEG-006</td>\n",
       "      <td>000Y</td>\n",
       "      <td>1.3.6.1.4.1.14519.5.2.1.2736178830545221450983...</td>\n",
       "      <td>7/14/94</td>\n",
       "      <td>_t1of8_NH External Images for PACS</td>\n",
       "      <td>1.3.6.1.4.1.14519.5.2.1.1763102984474465728206...</td>\n",
       "      <td>7/14/94</td>\n",
       "      <td>_T2_t2_ci3d_tra_iso</td>\n",
       "      <td>6</td>\n",
       "      <td>MR Image Storage</td>\n",
       "      <td>MR</td>\n",
       "      <td>64</td>\n",
       "      <td>VS-SEG-006/1994-07-14/seg_T2.nii.gz</td>\n",
       "    </tr>\n",
       "    <tr>\n",
       "      <th>4</th>\n",
       "      <td>Vestibular-Schwannoma-MC-RC</td>\n",
       "      <td>KCL</td>\n",
       "      <td>VS-SEG-006</td>\n",
       "      <td>000Y</td>\n",
       "      <td>1.3.6.1.4.1.14519.5.2.1.3168504434464317235466...</td>\n",
       "      <td>8/11/97</td>\n",
       "      <td>_t5of8_NH MRI IAMS</td>\n",
       "      <td>1.3.6.1.4.1.14519.5.2.1.2808073651745237167246...</td>\n",
       "      <td>8/11/97</td>\n",
       "      <td>_T2_t2_spc_tra_iso_0.5</td>\n",
       "      <td>16</td>\n",
       "      <td>MR Image Storage</td>\n",
       "      <td>MR</td>\n",
       "      <td>80</td>\n",
       "      <td>VS-SEG-006/1997-08-11/seg_T2.nii.gz</td>\n",
       "    </tr>\n",
       "  </tbody>\n",
       "</table>\n",
       "</div>"
      ],
      "text/plain": [
       "                    collection site  patient_id patient_age  \\\n",
       "0  Vestibular-Schwannoma-MC-RC  KCL  VS-SEG-003        000Y   \n",
       "1  Vestibular-Schwannoma-MC-RC  KCL  VS-SEG-003        000Y   \n",
       "2  Vestibular-Schwannoma-MC-RC  KCL  VS-SEG-003        000Y   \n",
       "3  Vestibular-Schwannoma-MC-RC  KCL  VS-SEG-006        000Y   \n",
       "4  Vestibular-Schwannoma-MC-RC  KCL  VS-SEG-006        000Y   \n",
       "\n",
       "                                  study_instance_uid study_date  \\\n",
       "0  1.3.6.1.4.1.14519.5.2.1.2341270183576782445800...   12/19/93   \n",
       "1  1.3.6.1.4.1.14519.5.2.1.2081468945939582744939...     4/8/95   \n",
       "2  1.3.6.1.4.1.14519.5.2.1.2953087395063994263339...    8/30/97   \n",
       "3  1.3.6.1.4.1.14519.5.2.1.2736178830545221450983...    7/14/94   \n",
       "4  1.3.6.1.4.1.14519.5.2.1.3168504434464317235466...    8/11/97   \n",
       "\n",
       "                    study_description  \\\n",
       "0  _t1of5_NH External Images for PACS   \n",
       "1                  _t3of5_NH MRI IAMS   \n",
       "2         _t5of5_NH MRI IAMS post Gad   \n",
       "3  _t1of8_NH External Images for PACS   \n",
       "4                  _t5of8_NH MRI IAMS   \n",
       "\n",
       "                                 series_instance_uid series_date  \\\n",
       "0  1.3.6.1.4.1.14519.5.2.1.3050341391500110719449...     4/30/94   \n",
       "1  1.3.6.1.4.1.14519.5.2.1.1921559877251454212202...      4/8/95   \n",
       "2  1.3.6.1.4.1.14519.5.2.1.2727370423178642071567...     8/30/97   \n",
       "3  1.3.6.1.4.1.14519.5.2.1.1763102984474465728206...     7/14/94   \n",
       "4  1.3.6.1.4.1.14519.5.2.1.2808073651745237167246...     8/11/97   \n",
       "\n",
       "        series_description  series_number   dicom_file_type modality  \\\n",
       "0  _T2_I.A.C.     * T2 TSE            401  MR Image Storage       MR   \n",
       "1       _T1_Ax FSPGR T1 +C              6  MR Image Storage       MR   \n",
       "2    _T1_t1vol+gad cor mpr              8  MR Image Storage       MR   \n",
       "3      _T2_t2_ci3d_tra_iso              6  MR Image Storage       MR   \n",
       "4   _T2_t2_spc_tra_iso_0.5             16  MR Image Storage       MR   \n",
       "\n",
       "   num_files                     SegmentationPath  \n",
       "0         30  VS-SEG-003/1993-12-19/seg_T2.nii.gz  \n",
       "1        116  VS-SEG-003/1995-04-08/seg_T1.nii.gz  \n",
       "2         50  VS-SEG-003/1997-08-30/seg_T1.nii.gz  \n",
       "3         64  VS-SEG-006/1994-07-14/seg_T2.nii.gz  \n",
       "4         80  VS-SEG-006/1997-08-11/seg_T2.nii.gz  "
      ]
     },
     "execution_count": 43,
     "metadata": {},
     "output_type": "execute_result"
    }
   ],
   "source": [
    "dfseg.head()"
   ]
  },
  {
   "cell_type": "code",
   "execution_count": 33,
   "id": "05b983e9-b6b7-40ee-9a46-91497bbc13d0",
   "metadata": {},
   "outputs": [],
   "source": [
    "commonSeriesUID = []\n",
    "for UID in DataSeriesUIDs:\n",
    "    if UID in SegSeriesUIDs:\n",
    "        commonSeriesUID.append(UID)"
   ]
  },
  {
   "cell_type": "code",
   "execution_count": 35,
   "id": "5203890a-a448-4840-8f93-70ea946bcaaf",
   "metadata": {},
   "outputs": [
    {
     "data": {
      "text/plain": [
       "354"
      ]
     },
     "execution_count": 35,
     "metadata": {},
     "output_type": "execute_result"
    }
   ],
   "source": [
    "len(commonSeriesUID)"
   ]
  },
  {
   "cell_type": "code",
   "execution_count": 59,
   "id": "bbaba287-6a50-4d91-9c2d-f18b52dd5de6",
   "metadata": {},
   "outputs": [
    {
     "name": "stdout",
     "output_type": "stream",
     "text": [
      ".\\Vestibular-Schwannoma-MC-RC\\VS-MC-RC-001\\03-13-1988-NA-t1of3  External Images for PACS-75716\\301.000000-T2I.A.C.      T2 TSE-69177\n"
     ]
    }
   ],
   "source": [
    "print(dfmeta[dfmeta['Series UID'] == '1.3.6.1.4.1.14519.5.2.1.10875952303942319530925289292568369177']['File Location'][0])"
   ]
  },
  {
   "cell_type": "code",
   "execution_count": 58,
   "id": "eb2e12ff-e6f7-4f65-83c7-427969202954",
   "metadata": {},
   "outputs": [
    {
     "name": "stdout",
     "output_type": "stream",
     "text": [
      "VS-MC-RC-001/1988-03-13/seg_T2.nii.gz\n"
     ]
    }
   ],
   "source": [
    "print(dfseg[dfseg['series_instance_uid'] == '1.3.6.1.4.1.14519.5.2.1.10875952303942319530925289292568369177']['SegmentationPath'].tolist()[0])"
   ]
  },
  {
   "cell_type": "code",
   "execution_count": 62,
   "id": "682367a3-e067-4d83-b1c3-3d74f63d2929",
   "metadata": {},
   "outputs": [
    {
     "data": {
      "text/plain": [
       "'C:/Users/Rishabh/Downloads/VS-MC-RC-Segmentations_with_pathname_spreadsheet-Release2023 (1)/VS-MC-RC-Segmentations_with_pathname_spreadsheet-Release2023\\\\VS-MC-RC segmentations-NIfTI-Release 2023\\\\VS-MC-RC-001/1988-03-13/seg_T2.nii.gz'"
      ]
     },
     "execution_count": 62,
     "metadata": {},
     "output_type": "execute_result"
    }
   ],
   "source": [
    "smpl = dfseg[dfseg['series_instance_uid'] == '1.3.6.1.4.1.14519.5.2.1.10875952303942319530925289292568369177']['SegmentationPath'].tolist()[0]\n",
    "os.path.join(segemntsdir, smpl)\n",
    "# os.listdir()"
   ]
  },
  {
   "cell_type": "code",
   "execution_count": 63,
   "id": "91c09cb4-1772-4cf8-ac27-91f99b50cae8",
   "metadata": {},
   "outputs": [
    {
     "name": "stdout",
     "output_type": "stream",
     "text": [
      "(256, 256, 30)\n"
     ]
    }
   ],
   "source": [
    "import nibabel as nib\n",
    "\n",
    "# Load the NIfTI file\n",
    "nii_image = nib.load(os.path.join(segemntsdir, smpl))\n",
    "\n",
    "# Get the image data as a NumPy array\n",
    "image_data = nii_image.get_fdata()\n",
    "\n",
    "# Print shape of the image data\n",
    "print(image_data.shape)"
   ]
  },
  {
   "cell_type": "code",
   "execution_count": 64,
   "id": "b83f91eb-52d0-455b-afbd-c096e101510f",
   "metadata": {},
   "outputs": [
    {
     "name": "stdout",
     "output_type": "stream",
     "text": [
      "[0. 1.]\n"
     ]
    }
   ],
   "source": [
    "print(np.unique(image_data))"
   ]
  },
  {
   "cell_type": "code",
   "execution_count": 69,
   "id": "9d43fb74-8e4b-4755-91c0-20573d5b84e0",
   "metadata": {},
   "outputs": [
    {
     "name": "stdout",
     "output_type": "stream",
     "text": [
      "VS-MC-RC-001/1988-03-13/seg_T2.nii.gz\n"
     ]
    },
    {
     "ename": "TypeError",
     "evalue": "ufunc 'isnan' not supported for the input types, and the inputs could not be safely coerced to any supported types according to the casting rule ''safe''",
     "output_type": "error",
     "traceback": [
      "\u001b[1;31m---------------------------------------------------------------------------\u001b[0m",
      "\u001b[1;31mTypeError\u001b[0m                                 Traceback (most recent call last)",
      "Cell \u001b[1;32mIn[69], line 4\u001b[0m\n\u001b[0;32m      2\u001b[0m smpl \u001b[38;5;241m=\u001b[39m dfseg[dfseg[\u001b[38;5;124m'\u001b[39m\u001b[38;5;124mseries_instance_uid\u001b[39m\u001b[38;5;124m'\u001b[39m] \u001b[38;5;241m==\u001b[39m UID][\u001b[38;5;124m'\u001b[39m\u001b[38;5;124mSegmentationPath\u001b[39m\u001b[38;5;124m'\u001b[39m]\u001b[38;5;241m.\u001b[39mtolist()[\u001b[38;5;241m0\u001b[39m]\n\u001b[0;32m      3\u001b[0m \u001b[38;5;28mprint\u001b[39m(smpl)\n\u001b[1;32m----> 4\u001b[0m \u001b[38;5;28;01mif\u001b[39;00m np\u001b[38;5;241m.\u001b[39misnan(smpl):\n\u001b[0;32m      5\u001b[0m     \u001b[38;5;28;01mcontinue\u001b[39;00m\n\u001b[0;32m      6\u001b[0m \u001b[38;5;28;01melse\u001b[39;00m:\n",
      "\u001b[1;31mTypeError\u001b[0m: ufunc 'isnan' not supported for the input types, and the inputs could not be safely coerced to any supported types according to the casting rule ''safe''"
     ]
    }
   ],
   "source": [
    "for UID in DataSeriesUIDs:\n",
    "    smpl = dfseg[dfseg['series_instance_uid'] == UID]['SegmentationPath'].tolist()[0]\n",
    "    print(smpl)\n",
    "    if np.isnan(smpl):\n",
    "        continue\n",
    "    else:\n",
    "        smpl = os.path.join(segemntsdir, smpl)\n",
    "        print(smpl)\n",
    "        nii_image = nib.load(smpl)\n",
    "        image_data = nii_image.get_fdata()\n",
    "        print(image_data.shape)"
   ]
  },
  {
   "cell_type": "code",
   "execution_count": null,
   "id": "d1f9a8f0-c3ad-40bd-9822-09de62ae2bca",
   "metadata": {},
   "outputs": [],
   "source": []
  }
 ],
 "metadata": {
  "kernelspec": {
   "display_name": "Python 3 (ipykernel)",
   "language": "python",
   "name": "python3"
  },
  "language_info": {
   "codemirror_mode": {
    "name": "ipython",
    "version": 3
   },
   "file_extension": ".py",
   "mimetype": "text/x-python",
   "name": "python",
   "nbconvert_exporter": "python",
   "pygments_lexer": "ipython3",
   "version": "3.11.11"
  }
 },
 "nbformat": 4,
 "nbformat_minor": 5
}
