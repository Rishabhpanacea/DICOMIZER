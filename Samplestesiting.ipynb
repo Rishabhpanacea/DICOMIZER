{
 "cells": [
  {
   "cell_type": "code",
   "execution_count": 27,
   "id": "649b2d07-f110-407a-b97c-8db9a2c37a96",
   "metadata": {},
   "outputs": [],
   "source": [
    "import os\n",
    "Dir = r\"C:\\Users\\Rishabh\\Downloads\\Inputtesting\""
   ]
  },
  {
   "cell_type": "code",
   "execution_count": 28,
   "id": "a1415e19-3037-487c-8ce0-4c48328dacac",
   "metadata": {},
   "outputs": [
    {
     "name": "stdout",
     "output_type": "stream",
     "text": [
      "['madebyme.nii.gz', 'vs_gk.npy', 'vs_gk_0000.nii.gz']\n"
     ]
    }
   ],
   "source": [
    "print(os.listdir(Dir))"
   ]
  },
  {
   "cell_type": "code",
   "execution_count": 21,
   "id": "5e4b570a-c8ce-494a-9f05-3deedf03bf70",
   "metadata": {},
   "outputs": [
    {
     "name": "stdout",
     "output_type": "stream",
     "text": [
      "['vs_gk_t2_0000.nii.gz']\n"
     ]
    }
   ],
   "source": [
    "example = \"C:/example_input_images/ceT1+T2\"\n",
    "example = \"C:/example_input_images/T2\"\n",
    "print(os.listdir(example))"
   ]
  },
  {
   "cell_type": "code",
   "execution_count": 29,
   "id": "60160fc3-87a4-486b-85a4-fa9c4e330b59",
   "metadata": {
    "scrolled": true
   },
   "outputs": [
    {
     "name": "stdout",
     "output_type": "stream",
     "text": [
      "Data shape: (448, 512, 18)\n",
      "Data type: float64\n",
      "Affine matrix:\n",
      "[[-4.10105765e-01  8.41348588e-11 -3.45179737e-02  9.09461975e+01]\n",
      " [-4.74736862e-06  4.10156131e-01  1.62281713e-03 -6.36871681e+01]\n",
      " [-6.43534493e-03 -3.02578468e-04  2.19972849e+00 -4.28403511e+01]\n",
      " [ 0.00000000e+00  0.00000000e+00  0.00000000e+00  1.00000000e+00]]\n",
      "\n",
      "Header information:\n",
      "<class 'nibabel.nifti1.Nifti1Header'> object, endian='<'\n",
      "sizeof_hdr      : 348\n",
      "data_type       : np.bytes_(b'')\n",
      "db_name         : np.bytes_(b'')\n",
      "extents         : 0\n",
      "session_error   : 0\n",
      "regular         : np.bytes_(b'')\n",
      "dim_info        : 0\n",
      "dim             : [  3 448 512  18   1   1   1   1]\n",
      "intent_p1       : 0.0\n",
      "intent_p2       : 0.0\n",
      "intent_p3       : 0.0\n",
      "intent_code     : none\n",
      "datatype        : uint16\n",
      "bitpix          : 16\n",
      "slice_start     : 0\n",
      "pixdim          : [-1.          0.41015625  0.41015625  2.2         1.          1.\n",
      "  1.          1.        ]\n",
      "vox_offset      : 0.0\n",
      "scl_slope       : nan\n",
      "scl_inter       : nan\n",
      "slice_end       : 0\n",
      "slice_code      : unknown\n",
      "xyzt_units      : 2\n",
      "cal_max         : 0.0\n",
      "cal_min         : 0.0\n",
      "slice_duration  : 0.0\n",
      "toffset         : 0.0\n",
      "glmax           : 0\n",
      "glmin           : 0\n",
      "descrip         : np.bytes_(b'')\n",
      "aux_file        : np.bytes_(b'')\n",
      "qform_code      : unknown\n",
      "sform_code      : aligned\n",
      "quatern_b       : -2.8936333e-06\n",
      "quatern_c       : 0.9999692\n",
      "quatern_d       : -0.0003688512\n",
      "qoffset_x       : 90.9462\n",
      "qoffset_y       : -63.68717\n",
      "qoffset_z       : -42.84035\n",
      "srow_x          : [-4.1010576e-01  8.4134859e-11 -3.4517974e-02  9.0946198e+01]\n",
      "srow_y          : [-4.7473686e-06  4.1015613e-01  1.6228171e-03 -6.3687168e+01]\n",
      "srow_z          : [-6.4353449e-03 -3.0257847e-04  2.1997285e+00 -4.2840351e+01]\n",
      "intent_name     : np.bytes_(b'')\n",
      "magic           : np.bytes_(b'n+1')\n"
     ]
    }
   ],
   "source": [
    "import nibabel as nib\n",
    "import numpy as np\n",
    "\n",
    "# Load the .nii.gz file\n",
    "file_path = os.path.join(Dir, 'madebyme.nii.gz')\n",
    "img = nib.load(file_path)\n",
    "\n",
    "# Get the data as a NumPy array\n",
    "data = img.get_fdata()\n",
    "\n",
    "# Print shape and type of the data\n",
    "print(f\"Data shape: {data.shape}\")\n",
    "print(f\"Data type: {data.dtype}\")\n",
    "\n",
    "# Print metadata\n",
    "print(\"Affine matrix:\")\n",
    "print(img.affine)\n",
    "print(\"\\nHeader information:\")\n",
    "print(img.header)\n",
    "\n",
    "# Example: Access a specific slice (e.g., slice 50)\n",
    "slice_data = data[:, :, 10]"
   ]
  },
  {
   "cell_type": "code",
   "execution_count": 30,
   "id": "c5b8b476-3f2d-4b87-b617-39b36cbe643f",
   "metadata": {
    "scrolled": true
   },
   "outputs": [
    {
     "name": "stdout",
     "output_type": "stream",
     "text": [
      "Data shape: (416, 488, 81)\n",
      "Data type: float64\n",
      "Affine matrix:\n",
      "[[ -0.41015625   0.           0.          83.76821899]\n",
      " [  0.          -0.41015625   0.         118.152565  ]\n",
      " [  0.           0.           1.5        -78.50067139]\n",
      " [  0.           0.           0.           1.        ]]\n",
      "\n",
      "Header information:\n",
      "<class 'nibabel.nifti1.Nifti1Header'> object, endian='<'\n",
      "sizeof_hdr      : 348\n",
      "data_type       : np.bytes_(b'')\n",
      "db_name         : np.bytes_(b'')\n",
      "extents         : 0\n",
      "session_error   : 0\n",
      "regular         : np.bytes_(b'r')\n",
      "dim_info        : 0\n",
      "dim             : [  3 416 488  81   1   1   1   1]\n",
      "intent_p1       : 0.0\n",
      "intent_p2       : 0.0\n",
      "intent_p3       : 0.0\n",
      "intent_code     : none\n",
      "datatype        : uint16\n",
      "bitpix          : 16\n",
      "slice_start     : 0\n",
      "pixdim          : [1.         0.41015625 0.41015625 1.5        1.         1.\n",
      " 1.         1.        ]\n",
      "vox_offset      : 0.0\n",
      "scl_slope       : nan\n",
      "scl_inter       : nan\n",
      "slice_end       : 0\n",
      "slice_code      : unknown\n",
      "xyzt_units      : 2\n",
      "cal_max         : 0.0\n",
      "cal_min         : 0.0\n",
      "slice_duration  : 0.0\n",
      "toffset         : 0.0\n",
      "glmax           : 0\n",
      "glmin           : 0\n",
      "descrip         : np.bytes_(b'')\n",
      "aux_file        : np.bytes_(b'')\n",
      "qform_code      : unknown\n",
      "sform_code      : aligned\n",
      "quatern_b       : 0.0\n",
      "quatern_c       : 0.0\n",
      "quatern_d       : 1.0\n",
      "qoffset_x       : 83.76822\n",
      "qoffset_y       : 118.152565\n",
      "qoffset_z       : -78.50067\n",
      "srow_x          : [-0.41015625  0.          0.         83.76822   ]\n",
      "srow_y          : [  0.          -0.41015625   0.         118.152565  ]\n",
      "srow_z          : [  0.        0.        1.5     -78.50067]\n",
      "intent_name     : np.bytes_(b'')\n",
      "magic           : np.bytes_(b'n+1')\n"
     ]
    }
   ],
   "source": [
    "import nibabel as nib\n",
    "import numpy as np\n",
    "\n",
    "# Load the .nii.gz file\n",
    "file_path = os.path.join(Dir, 'vs_gk_0000.nii.gz')\n",
    "img = nib.load(file_path)\n",
    "\n",
    "# Get the data as a NumPy array\n",
    "data = img.get_fdata()\n",
    "\n",
    "# Print shape and type of the data\n",
    "print(f\"Data shape: {data.shape}\")\n",
    "print(f\"Data type: {data.dtype}\")\n",
    "\n",
    "# Print metadata\n",
    "print(\"Affine matrix:\")\n",
    "print(img.affine)\n",
    "print(\"\\nHeader information:\")\n",
    "print(img.header)\n",
    "\n",
    "# Example: Access a specific slice (e.g., slice 50)\n",
    "slice_data = data[:, :, 10]"
   ]
  },
  {
   "cell_type": "code",
   "execution_count": 10,
   "id": "1ea14af5-7ce0-423b-9d3d-797c53050002",
   "metadata": {},
   "outputs": [
    {
     "ename": "FileNotFoundError",
     "evalue": "No such file or no access: 'path_to_first_file.nii.gz'",
     "output_type": "error",
     "traceback": [
      "\u001b[1;31m---------------------------------------------------------------------------\u001b[0m",
      "\u001b[1;31mFileNotFoundError\u001b[0m                         Traceback (most recent call last)",
      "File \u001b[1;32m~\\anaconda3\\envs\\DICOMIZER\\Lib\\site-packages\\nibabel\\loadsave.py:101\u001b[0m, in \u001b[0;36mload\u001b[1;34m(filename, **kwargs)\u001b[0m\n\u001b[0;32m    100\u001b[0m \u001b[38;5;28;01mtry\u001b[39;00m:\n\u001b[1;32m--> 101\u001b[0m     stat_result \u001b[38;5;241m=\u001b[39m os\u001b[38;5;241m.\u001b[39mstat(filename)\n\u001b[0;32m    102\u001b[0m \u001b[38;5;28;01mexcept\u001b[39;00m \u001b[38;5;167;01mOSError\u001b[39;00m:\n",
      "\u001b[1;31mFileNotFoundError\u001b[0m: [WinError 2] The system cannot find the file specified: 'path_to_first_file.nii.gz'",
      "\nDuring handling of the above exception, another exception occurred:\n",
      "\u001b[1;31mFileNotFoundError\u001b[0m                         Traceback (most recent call last)",
      "Cell \u001b[1;32mIn[10], line 8\u001b[0m\n\u001b[0;32m      5\u001b[0m file1_path \u001b[38;5;241m=\u001b[39m \u001b[38;5;124m'\u001b[39m\u001b[38;5;124mpath_to_first_file.nii.gz\u001b[39m\u001b[38;5;124m'\u001b[39m  \u001b[38;5;66;03m# Update with your file path\u001b[39;00m\n\u001b[0;32m      6\u001b[0m file2_path \u001b[38;5;241m=\u001b[39m \u001b[38;5;124m'\u001b[39m\u001b[38;5;124mpath_to_second_file.nii.gz\u001b[39m\u001b[38;5;124m'\u001b[39m  \u001b[38;5;66;03m# Update with your file path\u001b[39;00m\n\u001b[1;32m----> 8\u001b[0m file1 \u001b[38;5;241m=\u001b[39m nib\u001b[38;5;241m.\u001b[39mload(file1_path)\n\u001b[0;32m      9\u001b[0m file2 \u001b[38;5;241m=\u001b[39m nib\u001b[38;5;241m.\u001b[39mload(file2_path)\n\u001b[0;32m     11\u001b[0m \u001b[38;5;66;03m# Get data and affine matrices\u001b[39;00m\n",
      "File \u001b[1;32m~\\anaconda3\\envs\\DICOMIZER\\Lib\\site-packages\\nibabel\\loadsave.py:103\u001b[0m, in \u001b[0;36mload\u001b[1;34m(filename, **kwargs)\u001b[0m\n\u001b[0;32m    101\u001b[0m     stat_result \u001b[38;5;241m=\u001b[39m os\u001b[38;5;241m.\u001b[39mstat(filename)\n\u001b[0;32m    102\u001b[0m \u001b[38;5;28;01mexcept\u001b[39;00m \u001b[38;5;167;01mOSError\u001b[39;00m:\n\u001b[1;32m--> 103\u001b[0m     \u001b[38;5;28;01mraise\u001b[39;00m \u001b[38;5;167;01mFileNotFoundError\u001b[39;00m(\u001b[38;5;124mf\u001b[39m\u001b[38;5;124m\"\u001b[39m\u001b[38;5;124mNo such file or no access: \u001b[39m\u001b[38;5;124m'\u001b[39m\u001b[38;5;132;01m{\u001b[39;00mfilename\u001b[38;5;132;01m}\u001b[39;00m\u001b[38;5;124m'\u001b[39m\u001b[38;5;124m\"\u001b[39m)\n\u001b[0;32m    104\u001b[0m \u001b[38;5;28;01mif\u001b[39;00m stat_result\u001b[38;5;241m.\u001b[39mst_size \u001b[38;5;241m<\u001b[39m\u001b[38;5;241m=\u001b[39m \u001b[38;5;241m0\u001b[39m:\n\u001b[0;32m    105\u001b[0m     \u001b[38;5;28;01mraise\u001b[39;00m ImageFileError(\u001b[38;5;124mf\u001b[39m\u001b[38;5;124m\"\u001b[39m\u001b[38;5;124mEmpty file: \u001b[39m\u001b[38;5;124m'\u001b[39m\u001b[38;5;132;01m{\u001b[39;00mfilename\u001b[38;5;132;01m}\u001b[39;00m\u001b[38;5;124m'\u001b[39m\u001b[38;5;124m\"\u001b[39m)\n",
      "\u001b[1;31mFileNotFoundError\u001b[0m: No such file or no access: 'path_to_first_file.nii.gz'"
     ]
    }
   ],
   "source": [
    "import nibabel as nib\n",
    "import numpy as np\n",
    "from scipy.ndimage import zoom\n",
    "\n",
    "# Load the first NIfTI file\n",
    "file1_path = os.path.join(Dir, 'madebyme.nii.gz')  # Update with your file path\n",
    "file2_path = os.path.join(Dir, 'vs_gk_0000.nii.gz')  # Update with your file path\n",
    "\n",
    "file1 = nib.load(file1_path)\n",
    "file2 = nib.load(file2_path)\n",
    "\n",
    "# Get the data and affine matrix from the first file\n",
    "data1 = file1.get_fdata()\n",
    "affine1 = file1.affine\n",
    "\n",
    "# Get voxel sizes from the first and second files\n",
    "pixdim1 = file1.header.get_zooms()  # Voxel size of the first file\n",
    "pixdim2 = file2.header.get_zooms()  # Voxel size of the second file\n",
    "\n",
    "# Resample data to match the second file's voxel size (1.5mm in Z dimension)\n",
    "zoom_factors = np.array(pixdim1[:3]) / np.array(pixdim2[:3])\n",
    "resampled_data = zoom(data1, zoom_factors, order=1)  # Interpolation order = 1 (linear interpolation)\n",
    "\n",
    "# Adjust the affine matrix of the first file to match the second file\n",
    "affine2 = file2.affine\n",
    "\n",
    "# Save the new resampled file with the adjusted affine matrix\n",
    "new_img = nib.Nifti1Image(resampled_data, affine2)\n",
    "new_img.to_filename('converted_file.nii.gz')  # Save the output file\n",
    "\n",
    "print(\"Conversion completed! The new file is saved as 'converted_file.nii.gz'.\")\n"
   ]
  },
  {
   "cell_type": "code",
   "execution_count": 11,
   "id": "16aa4d0b-c6d7-40a4-ad41-ca119ca04701",
   "metadata": {},
   "outputs": [
    {
     "name": "stdout",
     "output_type": "stream",
     "text": [
      "Conversion completed! The new file is saved as 'converted_file.nii.gz'.\n"
     ]
    }
   ],
   "source": [
    "import nibabel as nib\n",
    "import numpy as np\n",
    "\n",
    "# Load the first NIfTI file\n",
    "file1_path = os.path.join(Dir, 'madebyme.nii.gz')  # Update with your file path\n",
    "file2_path = os.path.join(Dir, 'vs_gk_0000.nii.gz')  # Update with your file path\n",
    "\n",
    "file1 = nib.load(file1_path)\n",
    "file2 = nib.load(file2_path)\n",
    "\n",
    "# Get data and affine matrices\n",
    "data1 = file1.get_fdata()\n",
    "affine1 = file1.affine\n",
    "\n",
    "# Get voxel sizes and affine from the second file\n",
    "pixdim2 = file2.header.get_zooms()  # Voxel size of the second file\n",
    "affine2 = file2.affine  # Affine of the second file\n",
    "\n",
    "# Calculate the scaling factor for the slice thickness\n",
    "scale_z = pixdim2[2] / file1.header.get_zooms()[2]\n",
    "\n",
    "# Adjust the affine matrix for slice thickness (Z-dimension)\n",
    "new_affine = affine1.copy()\n",
    "new_affine[2, 2] = affine1[2, 2] * scale_z  # Adjust Z scaling\n",
    "\n",
    "# Keep the number of slices the same, but change the slice thickness in the affine matrix\n",
    "new_img = nib.Nifti1Image(data1, new_affine)\n",
    "\n",
    "# Save the new image with the adjusted affine matrix (same data, new spacing)\n",
    "new_img.to_filename('converted_file.nii.gz')  # Save the output file\n",
    "\n",
    "print(\"Conversion completed! The new file is saved as 'converted_file.nii.gz'.\")\n"
   ]
  },
  {
   "cell_type": "code",
   "execution_count": 16,
   "id": "28b90247-c354-4b4d-9ec7-e5c2b4f43981",
   "metadata": {},
   "outputs": [
    {
     "name": "stdout",
     "output_type": "stream",
     "text": [
      "(2, 26, 422, 444)\n"
     ]
    }
   ],
   "source": [
    "import numpy as np\n",
    "\n",
    "# Specify the path to your .npy file\n",
    "file_path = os.path.join(Dir,'vs_gk.npy')  # Update with your file path\n",
    "\n",
    "# Load the .npy file\n",
    "data = np.load(file_path)\n",
    "\n",
    "# Print the data to inspect\n",
    "print(data.shape)\n"
   ]
  },
  {
   "cell_type": "code",
   "execution_count": 25,
   "id": "aea8428b-72fc-4d2a-af8b-85c50f63b562",
   "metadata": {},
   "outputs": [
    {
     "name": "stdout",
     "output_type": "stream",
     "text": [
      "Saved new file at: C:/example_input_images/T2\\first_10_slices.nii.gz\n"
     ]
    }
   ],
   "source": [
    "import nibabel as nib\n",
    "import numpy as np\n",
    "import os\n",
    "\n",
    "# Load the .nii.gz file\n",
    "file_path = os.path.join(example, 'vs_gk_t2_0000.nii.gz')\n",
    "img = nib.load(file_path)\n",
    "\n",
    "# Get the data as a NumPy array\n",
    "data = img.get_fdata()\n",
    "\n",
    "# Access the first 10 slices (slices 0 to 9)\n",
    "slices_data = data[:, :, :10]\n",
    "\n",
    "# Create a new NIfTI image with the first 10 slices\n",
    "new_img = nib.Nifti1Image(slices_data, img.affine)\n",
    "\n",
    "# Save the new image to a file\n",
    "output_path = os.path.join(example, 'first_10_slices.nii.gz')\n",
    "nib.save(new_img, output_path)\n",
    "\n",
    "print(f\"Saved new file at: {output_path}\")\n",
    "\n"
   ]
  },
  {
   "cell_type": "code",
   "execution_count": null,
   "id": "37ac8cac-ae99-4b94-aa81-d6f664ccf27e",
   "metadata": {},
   "outputs": [],
   "source": []
  }
 ],
 "metadata": {
  "kernelspec": {
   "display_name": "Python 3 (ipykernel)",
   "language": "python",
   "name": "python3"
  },
  "language_info": {
   "codemirror_mode": {
    "name": "ipython",
    "version": 3
   },
   "file_extension": ".py",
   "mimetype": "text/x-python",
   "name": "python",
   "nbconvert_exporter": "python",
   "pygments_lexer": "ipython3",
   "version": "3.11.11"
  }
 },
 "nbformat": 4,
 "nbformat_minor": 5
}
