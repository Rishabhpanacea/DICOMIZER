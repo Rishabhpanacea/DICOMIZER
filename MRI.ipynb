{
 "cells": [
  {
   "cell_type": "code",
   "execution_count": 1,
   "id": "220aad82-f740-4f7b-8a5a-8d169609baa7",
   "metadata": {},
   "outputs": [],
   "source": [
    "import os"
   ]
  },
  {
   "cell_type": "code",
   "execution_count": 6,
   "id": "b91d2aa9-a75b-465c-a9b3-3a6fbf01e556",
   "metadata": {},
   "outputs": [],
   "source": [
    "SampleDataDir = \"C:/Users/Rishabh/Documents/DICOMIZER/SampleData/example_input_images\"\n",
    "ceT1 = os.path.join(SampleDataDir,'ceT1')\n",
    "ceT1_T2 = os.path.join(SampleDataDir,'ceT1+T2')\n",
    "T2 = os.path.join(SampleDataDir,'T2')"
   ]
  },
  {
   "cell_type": "code",
   "execution_count": 9,
   "id": "42ed50b8-2666-4e4f-9267-9b462e305677",
   "metadata": {},
   "outputs": [
    {
     "name": "stdout",
     "output_type": "stream",
     "text": [
      "['vs_gk_t2_0000.nii.gz']\n"
     ]
    }
   ],
   "source": [
    "print(os.listdir(T2))"
   ]
  },
  {
   "cell_type": "code",
   "execution_count": 10,
   "id": "c436edcc-a06b-429a-87aa-19a7449f177d",
   "metadata": {},
   "outputs": [
    {
     "name": "stdout",
     "output_type": "stream",
     "text": [
      "Data shape: (416, 488, 81)\n",
      "Data type: float64\n",
      "Affine matrix:\n",
      "[[ -0.41015625   0.           0.          83.76821899]\n",
      " [  0.          -0.41015625   0.         118.152565  ]\n",
      " [  0.           0.           1.5        -78.50067139]\n",
      " [  0.           0.           0.           1.        ]]\n",
      "\n",
      "Header information:\n",
      "<class 'nibabel.nifti1.Nifti1Header'> object, endian='<'\n",
      "sizeof_hdr      : 348\n",
      "data_type       : np.bytes_(b'')\n",
      "db_name         : np.bytes_(b'')\n",
      "extents         : 0\n",
      "session_error   : 0\n",
      "regular         : np.bytes_(b'r')\n",
      "dim_info        : 0\n",
      "dim             : [  3 416 488  81   1   1   1   1]\n",
      "intent_p1       : 0.0\n",
      "intent_p2       : 0.0\n",
      "intent_p3       : 0.0\n",
      "intent_code     : none\n",
      "datatype        : uint16\n",
      "bitpix          : 16\n",
      "slice_start     : 0\n",
      "pixdim          : [1.         0.41015625 0.41015625 1.5        1.         1.\n",
      " 1.         1.        ]\n",
      "vox_offset      : 0.0\n",
      "scl_slope       : nan\n",
      "scl_inter       : nan\n",
      "slice_end       : 0\n",
      "slice_code      : unknown\n",
      "xyzt_units      : 2\n",
      "cal_max         : 0.0\n",
      "cal_min         : 0.0\n",
      "slice_duration  : 0.0\n",
      "toffset         : 0.0\n",
      "glmax           : 0\n",
      "glmin           : 0\n",
      "descrip         : np.bytes_(b'')\n",
      "aux_file        : np.bytes_(b'')\n",
      "qform_code      : unknown\n",
      "sform_code      : aligned\n",
      "quatern_b       : 0.0\n",
      "quatern_c       : 0.0\n",
      "quatern_d       : 1.0\n",
      "qoffset_x       : 83.76822\n",
      "qoffset_y       : 118.152565\n",
      "qoffset_z       : -78.50067\n",
      "srow_x          : [-0.41015625  0.          0.         83.76822   ]\n",
      "srow_y          : [  0.          -0.41015625   0.         118.152565  ]\n",
      "srow_z          : [  0.        0.        1.5     -78.50067]\n",
      "intent_name     : np.bytes_(b'')\n",
      "magic           : np.bytes_(b'n+1')\n"
     ]
    }
   ],
   "source": [
    "import nibabel as nib\n",
    "import numpy as np\n",
    "\n",
    "# Load the .nii.gz file\n",
    "file_path = os.path.join(ceT1, os.listdir(ceT1)[0])\n",
    "img = nib.load(file_path)\n",
    "\n",
    "# Get the data as a NumPy array\n",
    "data = img.get_fdata()\n",
    "\n",
    "# Print shape and type of the data\n",
    "print(f\"Data shape: {data.shape}\")\n",
    "print(f\"Data type: {data.dtype}\")\n",
    "\n",
    "# Print metadata\n",
    "print(\"Affine matrix:\")\n",
    "print(img.affine)\n",
    "print(\"\\nHeader information:\")\n",
    "print(img.header)\n",
    "\n",
    "# Example: Access a specific slice (e.g., slice 50)\n",
    "slice_data = data[:, :, 50]\n"
   ]
  },
  {
   "cell_type": "code",
   "execution_count": 22,
   "id": "25a6c71a-3e54-4c04-a9de-eca9710193b0",
   "metadata": {},
   "outputs": [
    {
     "name": "stdout",
     "output_type": "stream",
     "text": [
      "['1-01.dcm', '1-02.dcm', '1-03.dcm', '1-04.dcm', '1-05.dcm', '1-06.dcm', '1-07.dcm', '1-08.dcm', '1-09.dcm', '1-10.dcm', '1-11.dcm', '1-12.dcm', '1-13.dcm', '1-14.dcm', '1-15.dcm', '1-16.dcm', '1-17.dcm', '1-18.dcm', '1-19.dcm', '1-20.dcm', '1-21.dcm', '1-22.dcm', '1-23.dcm', '1-24.dcm', '1-25.dcm', '1-26.dcm', '1-27.dcm', '1-28.dcm', '1-29.dcm', '1-30.dcm', '1-31.dcm', '1-32.dcm', '1-33.dcm', '1-34.dcm', '1-35.dcm', '1-36.dcm', '1-37.dcm', '1-38.dcm', '1-39.dcm', '1-40.dcm', '1-41.dcm', '1-42.dcm', '1-43.dcm', '1-44.dcm', '1-45.dcm', '1-46.dcm', '1-47.dcm', '1-48.dcm', '1-49.dcm', '1-50.dcm', '1-51.dcm', '1-52.dcm', '1-53.dcm', '1-54.dcm', '1-55.dcm', '1-56.dcm', '1-57.dcm', '1-58.dcm', '1-59.dcm', '1-60.dcm', '1-61.dcm', '1-62.dcm', '1-63.dcm', '1-64.dcm']\n"
     ]
    }
   ],
   "source": [
    "VS_MC_RC_030 = \"C:/Users/Rishabh/Documents/DICOMIZER/SampleData/VS-MC-RC-030\"\n",
    "MRI_IAMS_11131 = \"C:/Users/Rishabh/Documents/DICOMIZER/SampleData/VS-MC-RC-030/05-07-1997-NA-t3of3  MRI IAMS-11131/13.000000-T1t1vibefstrap2post Gad-66791\"\n",
    "MRI_IAMS_56472 = \"C:/Users/Rishabh/Documents/DICOMIZER/SampleData/VS-MC-RC-030/05-11-1995-NA-t2of3  MRI IAMS-56472/7.000000-T2FIESTA-C-74895\"\n",
    "MRI_IAM_S57092 = \"C:/Users/Rishabh/Documents/DICOMIZER/SampleData/VS-MC-RC-030/05-29-1993-NA-t1of3  MRI IAMS-57092/12.000000-T2t2spctraiso0.5-38532\"\n",
    "print(os.listdir(MRI_IAMS_56472))"
   ]
  },
  {
   "cell_type": "code",
   "execution_count": 28,
   "id": "acba6430-db3e-47d0-99fe-9e2480e28be0",
   "metadata": {},
   "outputs": [
    {
     "name": "stdout",
     "output_type": "stream",
     "text": [
      "1388\n",
      "(288, 288)\n"
     ]
    }
   ],
   "source": [
    "import pydicom\n",
    "ds = pydicom.dcmread(os.path.join(MRI_IAMS_11131,os.listdir(MRI_IAMS_11131)[0]))\n",
    "pixelarray = np.array(ds.pixel_array)\n",
    "print(len(np.unique(pixelarray)))\n",
    "print(pixelarray.shape)"
   ]
  },
  {
   "cell_type": "code",
   "execution_count": 26,
   "id": "50c02f73-3fe0-459c-b9ce-3465b13335b8",
   "metadata": {
    "scrolled": true
   },
   "outputs": [
    {
     "name": "stdout",
     "output_type": "stream",
     "text": [
      "(384, 384)\n",
      "(384, 384)\n",
      "(384, 384)\n",
      "(384, 384)\n",
      "(384, 384)\n",
      "(384, 384)\n",
      "(384, 384)\n",
      "(384, 384)\n",
      "(384, 384)\n",
      "(384, 384)\n",
      "(384, 384)\n",
      "(384, 384)\n",
      "(384, 384)\n",
      "(384, 384)\n",
      "(384, 384)\n",
      "(384, 384)\n",
      "(384, 384)\n",
      "(384, 384)\n",
      "(384, 384)\n",
      "(384, 384)\n",
      "(384, 384)\n",
      "(384, 384)\n",
      "(384, 384)\n",
      "(384, 384)\n",
      "(384, 384)\n",
      "(384, 384)\n",
      "(384, 384)\n",
      "(384, 384)\n",
      "(384, 384)\n",
      "(384, 384)\n",
      "(384, 384)\n",
      "(384, 384)\n",
      "(384, 384)\n",
      "(384, 384)\n",
      "(384, 384)\n",
      "(384, 384)\n",
      "(384, 384)\n",
      "(384, 384)\n",
      "(384, 384)\n",
      "(384, 384)\n",
      "(384, 384)\n",
      "(384, 384)\n",
      "(384, 384)\n",
      "(384, 384)\n",
      "(384, 384)\n",
      "(384, 384)\n",
      "(384, 384)\n",
      "(384, 384)\n",
      "(384, 384)\n",
      "(384, 384)\n",
      "(384, 384)\n",
      "(384, 384)\n",
      "(384, 384)\n",
      "(384, 384)\n",
      "(384, 384)\n",
      "(384, 384)\n",
      "(384, 384)\n",
      "(384, 384)\n",
      "(384, 384)\n",
      "(384, 384)\n"
     ]
    }
   ],
   "source": [
    "for dcmfile in os.listdir(MRI_IAM_S57092):\n",
    "    ds = pydicom.dcmread(os.path.join(MRI_IAM_S57092,dcmfile))\n",
    "    pixelarray = ds.pixel_array\n",
    "    print(pixelarray.shape)"
   ]
  },
  {
   "cell_type": "code",
   "execution_count": 30,
   "id": "6df42ba3-da46-4f91-a8a3-56d565f38636",
   "metadata": {},
   "outputs": [],
   "source": [
    "import nii2dcm"
   ]
  },
  {
   "cell_type": "code",
   "execution_count": 31,
   "id": "9d039638-651f-4a3d-a90f-420419e5af10",
   "metadata": {},
   "outputs": [],
   "source": [
    "from nii2dcm.run import run_nii2dcm"
   ]
  },
  {
   "cell_type": "code",
   "execution_count": 32,
   "id": "aa4107e7-bcc1-4e95-866a-4b9bc286b2f2",
   "metadata": {},
   "outputs": [
    {
     "data": {
      "text/plain": [
       "<function nii2dcm.run.run_nii2dcm(input_nii_path, output_dcm_path, dicom_type=None, ref_dicom_file=None)>"
      ]
     },
     "execution_count": 32,
     "metadata": {},
     "output_type": "execute_result"
    }
   ],
   "source": [
    "run_nii2dcm"
   ]
  },
  {
   "cell_type": "code",
   "execution_count": 34,
   "id": "66c992c7-8f95-4d11-8572-23434adaa1b1",
   "metadata": {},
   "outputs": [
    {
     "name": "stdout",
     "output_type": "stream",
     "text": [
      "nii2dcm: writing DICOM files ...\n",
      "nii2dcm: DICOM files written to: C:\\Users\\Rishabh\\Documents\\DICOMIZER\\dicom-output-directory\n"
     ]
    }
   ],
   "source": [
    "nii_file = os.path.join(ceT1, os.listdir(ceT1)[0])\n",
    "output_dcm_path = 'dicom-output-directory'\n",
    "dicom_type = 'MR'\n",
    "run_nii2dcm(nii_file,output_dcm_path, dicom_type )"
   ]
  },
  {
   "cell_type": "code",
   "execution_count": 41,
   "id": "1cebda48-9772-4c2e-a47d-7a9da7dabf21",
   "metadata": {},
   "outputs": [
    {
     "data": {
      "text/plain": [
       "{'NII_FILE': 'C:/Users/Rishabh/Documents/DICOMIZER/final.nii.gz',\n",
       " 'NII': <nibabel.nifti1.Nifti1Image at 0x1bbf379ed10>,\n",
       " 'MAX_SLICE_INCREMENT': np.float64(0.9999999999999932)}"
      ]
     },
     "execution_count": 41,
     "metadata": {},
     "output_type": "execute_result"
    }
   ],
   "source": [
    "import dicom2nifti\n",
    "output_file = 'C:/Users/Rishabh/Documents/DICOMIZER/final.nii.gz'\n",
    "dicom2nifti.dicom_series_to_nifti(r'C:\\Users\\Rishabh\\Documents\\DICOMIZER\\SampleData\\VS-MC-RC-030\\05-07-1997-NA-t3of3  MRI IAMS-11131\\13.000000-T1t1vibefstrap2post Gad-66791', output_file, reorient_nifti=True)"
   ]
  },
  {
   "cell_type": "code",
   "execution_count": 43,
   "id": "4aa511f8-aa4a-414d-93f2-98bd81b7ea39",
   "metadata": {},
   "outputs": [
    {
     "name": "stdout",
     "output_type": "stream",
     "text": [
      "(416, 488, 81)\n",
      "[0. 1.]\n"
     ]
    }
   ],
   "source": [
    "segmentationfile = 'SampleData/vs_gk.nii.gz'\n",
    "img = nib.load(segmentationfile)\n",
    "\n",
    "# Get the data as a NumPy array\n",
    "data = img.get_fdata()\n",
    "data = np.array(data)\n",
    "print(data.shape)\n",
    "print(np.unique(data))"
   ]
  },
  {
   "cell_type": "code",
   "execution_count": 47,
   "id": "e0c1bb6f-eb82-4240-849b-88ca6ee31052",
   "metadata": {},
   "outputs": [
    {
     "name": "stdout",
     "output_type": "stream",
     "text": [
      "(416, 488)\n"
     ]
    }
   ],
   "source": [
    "slice1 = data[:,:,8]\n",
    "print(slice1.shape)"
   ]
  },
  {
   "cell_type": "code",
   "execution_count": 53,
   "id": "b01d47a1-8311-4d32-babf-8e429e277aa0",
   "metadata": {},
   "outputs": [
    {
     "name": "stdout",
     "output_type": "stream",
     "text": [
      "StudyID missing in IM_0001.dcm. Adding it now.\n",
      "Updated StudyID for IM_0001.dcm and saved in place.\n",
      "StudyID missing in IM_0002.dcm. Adding it now.\n",
      "Updated StudyID for IM_0002.dcm and saved in place.\n",
      "StudyID missing in IM_0003.dcm. Adding it now.\n",
      "Updated StudyID for IM_0003.dcm and saved in place.\n",
      "StudyID missing in IM_0004.dcm. Adding it now.\n",
      "Updated StudyID for IM_0004.dcm and saved in place.\n",
      "StudyID missing in IM_0005.dcm. Adding it now.\n",
      "Updated StudyID for IM_0005.dcm and saved in place.\n",
      "StudyID missing in IM_0006.dcm. Adding it now.\n",
      "Updated StudyID for IM_0006.dcm and saved in place.\n",
      "StudyID missing in IM_0007.dcm. Adding it now.\n",
      "Updated StudyID for IM_0007.dcm and saved in place.\n",
      "StudyID missing in IM_0008.dcm. Adding it now.\n",
      "Updated StudyID for IM_0008.dcm and saved in place.\n",
      "StudyID missing in IM_0009.dcm. Adding it now.\n",
      "Updated StudyID for IM_0009.dcm and saved in place.\n",
      "StudyID missing in IM_0010.dcm. Adding it now.\n",
      "Updated StudyID for IM_0010.dcm and saved in place.\n",
      "StudyID missing in IM_0011.dcm. Adding it now.\n",
      "Updated StudyID for IM_0011.dcm and saved in place.\n",
      "StudyID missing in IM_0012.dcm. Adding it now.\n",
      "Updated StudyID for IM_0012.dcm and saved in place.\n",
      "StudyID missing in IM_0013.dcm. Adding it now.\n",
      "Updated StudyID for IM_0013.dcm and saved in place.\n",
      "StudyID missing in IM_0014.dcm. Adding it now.\n",
      "Updated StudyID for IM_0014.dcm and saved in place.\n",
      "StudyID missing in IM_0015.dcm. Adding it now.\n",
      "Updated StudyID for IM_0015.dcm and saved in place.\n",
      "StudyID missing in IM_0016.dcm. Adding it now.\n",
      "Updated StudyID for IM_0016.dcm and saved in place.\n",
      "StudyID missing in IM_0017.dcm. Adding it now.\n",
      "Updated StudyID for IM_0017.dcm and saved in place.\n",
      "StudyID missing in IM_0018.dcm. Adding it now.\n",
      "Updated StudyID for IM_0018.dcm and saved in place.\n",
      "StudyID missing in IM_0019.dcm. Adding it now.\n",
      "Updated StudyID for IM_0019.dcm and saved in place.\n",
      "StudyID missing in IM_0020.dcm. Adding it now.\n",
      "Updated StudyID for IM_0020.dcm and saved in place.\n",
      "StudyID missing in IM_0021.dcm. Adding it now.\n",
      "Updated StudyID for IM_0021.dcm and saved in place.\n",
      "StudyID missing in IM_0022.dcm. Adding it now.\n",
      "Updated StudyID for IM_0022.dcm and saved in place.\n",
      "StudyID missing in IM_0023.dcm. Adding it now.\n",
      "Updated StudyID for IM_0023.dcm and saved in place.\n",
      "StudyID missing in IM_0024.dcm. Adding it now.\n",
      "Updated StudyID for IM_0024.dcm and saved in place.\n",
      "StudyID missing in IM_0025.dcm. Adding it now.\n",
      "Updated StudyID for IM_0025.dcm and saved in place.\n",
      "StudyID missing in IM_0026.dcm. Adding it now.\n",
      "Updated StudyID for IM_0026.dcm and saved in place.\n",
      "StudyID missing in IM_0027.dcm. Adding it now.\n",
      "Updated StudyID for IM_0027.dcm and saved in place.\n",
      "StudyID missing in IM_0028.dcm. Adding it now.\n",
      "Updated StudyID for IM_0028.dcm and saved in place.\n",
      "StudyID missing in IM_0029.dcm. Adding it now.\n",
      "Updated StudyID for IM_0029.dcm and saved in place.\n",
      "StudyID missing in IM_0030.dcm. Adding it now.\n",
      "Updated StudyID for IM_0030.dcm and saved in place.\n",
      "StudyID missing in IM_0031.dcm. Adding it now.\n",
      "Updated StudyID for IM_0031.dcm and saved in place.\n",
      "StudyID missing in IM_0032.dcm. Adding it now.\n",
      "Updated StudyID for IM_0032.dcm and saved in place.\n",
      "StudyID missing in IM_0033.dcm. Adding it now.\n",
      "Updated StudyID for IM_0033.dcm and saved in place.\n",
      "StudyID missing in IM_0034.dcm. Adding it now.\n",
      "Updated StudyID for IM_0034.dcm and saved in place.\n",
      "StudyID missing in IM_0035.dcm. Adding it now.\n",
      "Updated StudyID for IM_0035.dcm and saved in place.\n",
      "StudyID missing in IM_0036.dcm. Adding it now.\n",
      "Updated StudyID for IM_0036.dcm and saved in place.\n",
      "StudyID missing in IM_0037.dcm. Adding it now.\n",
      "Updated StudyID for IM_0037.dcm and saved in place.\n",
      "StudyID missing in IM_0038.dcm. Adding it now.\n",
      "Updated StudyID for IM_0038.dcm and saved in place.\n",
      "StudyID missing in IM_0039.dcm. Adding it now.\n",
      "Updated StudyID for IM_0039.dcm and saved in place.\n",
      "StudyID missing in IM_0040.dcm. Adding it now.\n",
      "Updated StudyID for IM_0040.dcm and saved in place.\n",
      "StudyID missing in IM_0041.dcm. Adding it now.\n",
      "Updated StudyID for IM_0041.dcm and saved in place.\n",
      "StudyID missing in IM_0042.dcm. Adding it now.\n",
      "Updated StudyID for IM_0042.dcm and saved in place.\n",
      "StudyID missing in IM_0043.dcm. Adding it now.\n",
      "Updated StudyID for IM_0043.dcm and saved in place.\n",
      "StudyID missing in IM_0044.dcm. Adding it now.\n",
      "Updated StudyID for IM_0044.dcm and saved in place.\n",
      "StudyID missing in IM_0045.dcm. Adding it now.\n",
      "Updated StudyID for IM_0045.dcm and saved in place.\n",
      "StudyID missing in IM_0046.dcm. Adding it now.\n",
      "Updated StudyID for IM_0046.dcm and saved in place.\n",
      "StudyID missing in IM_0047.dcm. Adding it now.\n",
      "Updated StudyID for IM_0047.dcm and saved in place.\n",
      "StudyID missing in IM_0048.dcm. Adding it now.\n",
      "Updated StudyID for IM_0048.dcm and saved in place.\n",
      "StudyID missing in IM_0049.dcm. Adding it now.\n",
      "Updated StudyID for IM_0049.dcm and saved in place.\n",
      "StudyID missing in IM_0050.dcm. Adding it now.\n",
      "Updated StudyID for IM_0050.dcm and saved in place.\n",
      "StudyID missing in IM_0051.dcm. Adding it now.\n",
      "Updated StudyID for IM_0051.dcm and saved in place.\n",
      "StudyID missing in IM_0052.dcm. Adding it now.\n",
      "Updated StudyID for IM_0052.dcm and saved in place.\n",
      "StudyID missing in IM_0053.dcm. Adding it now.\n",
      "Updated StudyID for IM_0053.dcm and saved in place.\n",
      "StudyID missing in IM_0054.dcm. Adding it now.\n",
      "Updated StudyID for IM_0054.dcm and saved in place.\n",
      "StudyID missing in IM_0055.dcm. Adding it now.\n",
      "Updated StudyID for IM_0055.dcm and saved in place.\n",
      "StudyID missing in IM_0056.dcm. Adding it now.\n",
      "Updated StudyID for IM_0056.dcm and saved in place.\n",
      "StudyID missing in IM_0057.dcm. Adding it now.\n",
      "Updated StudyID for IM_0057.dcm and saved in place.\n",
      "StudyID missing in IM_0058.dcm. Adding it now.\n",
      "Updated StudyID for IM_0058.dcm and saved in place.\n",
      "StudyID missing in IM_0059.dcm. Adding it now.\n",
      "Updated StudyID for IM_0059.dcm and saved in place.\n",
      "StudyID missing in IM_0060.dcm. Adding it now.\n",
      "Updated StudyID for IM_0060.dcm and saved in place.\n",
      "StudyID missing in IM_0061.dcm. Adding it now.\n",
      "Updated StudyID for IM_0061.dcm and saved in place.\n",
      "StudyID missing in IM_0062.dcm. Adding it now.\n",
      "Updated StudyID for IM_0062.dcm and saved in place.\n",
      "StudyID missing in IM_0063.dcm. Adding it now.\n",
      "Updated StudyID for IM_0063.dcm and saved in place.\n",
      "StudyID missing in IM_0064.dcm. Adding it now.\n",
      "Updated StudyID for IM_0064.dcm and saved in place.\n",
      "StudyID missing in IM_0065.dcm. Adding it now.\n",
      "Updated StudyID for IM_0065.dcm and saved in place.\n",
      "StudyID missing in IM_0066.dcm. Adding it now.\n",
      "Updated StudyID for IM_0066.dcm and saved in place.\n",
      "StudyID missing in IM_0067.dcm. Adding it now.\n",
      "Updated StudyID for IM_0067.dcm and saved in place.\n",
      "StudyID missing in IM_0068.dcm. Adding it now.\n",
      "Updated StudyID for IM_0068.dcm and saved in place.\n",
      "StudyID missing in IM_0069.dcm. Adding it now.\n",
      "Updated StudyID for IM_0069.dcm and saved in place.\n",
      "StudyID missing in IM_0070.dcm. Adding it now.\n",
      "Updated StudyID for IM_0070.dcm and saved in place.\n",
      "StudyID missing in IM_0071.dcm. Adding it now.\n",
      "Updated StudyID for IM_0071.dcm and saved in place.\n",
      "StudyID missing in IM_0072.dcm. Adding it now.\n",
      "Updated StudyID for IM_0072.dcm and saved in place.\n",
      "StudyID missing in IM_0073.dcm. Adding it now.\n",
      "Updated StudyID for IM_0073.dcm and saved in place.\n",
      "StudyID missing in IM_0074.dcm. Adding it now.\n",
      "Updated StudyID for IM_0074.dcm and saved in place.\n",
      "StudyID missing in IM_0075.dcm. Adding it now.\n",
      "Updated StudyID for IM_0075.dcm and saved in place.\n",
      "StudyID missing in IM_0076.dcm. Adding it now.\n",
      "Updated StudyID for IM_0076.dcm and saved in place.\n",
      "StudyID missing in IM_0077.dcm. Adding it now.\n",
      "Updated StudyID for IM_0077.dcm and saved in place.\n",
      "StudyID missing in IM_0078.dcm. Adding it now.\n",
      "Updated StudyID for IM_0078.dcm and saved in place.\n",
      "StudyID missing in IM_0079.dcm. Adding it now.\n",
      "Updated StudyID for IM_0079.dcm and saved in place.\n",
      "StudyID missing in IM_0080.dcm. Adding it now.\n",
      "Updated StudyID for IM_0080.dcm and saved in place.\n",
      "StudyID missing in IM_0081.dcm. Adding it now.\n",
      "Updated StudyID for IM_0081.dcm and saved in place.\n",
      "Processing complete.\n"
     ]
    }
   ],
   "source": [
    "import os\n",
    "import pydicom\n",
    "\n",
    "# Path to the directory containing DICOM files\n",
    "# dicom_output_directory = 'dicom-output-directory'\n",
    "dicom_dir = 'dicom-output-directory'\n",
    "\n",
    "# Value to assign to StudyID\n",
    "new_study_id = \"12345\"\n",
    "\n",
    "# Iterate through each file in the directory\n",
    "for filename in os.listdir(dicom_dir):\n",
    "    # Build the full file path\n",
    "    file_path = os.path.join(dicom_dir, filename)\n",
    "    \n",
    "    # Check if the file is a valid DICOM file\n",
    "    if filename.endswith(\".dcm\"):  # Ensures only .dcm files are processed\n",
    "        try:\n",
    "            # Load the DICOM file\n",
    "            ds = pydicom.dcmread(file_path)\n",
    "            \n",
    "            # Check if the StudyID tag exists\n",
    "            if 'StudyID' in ds:\n",
    "                print(f\"Original StudyID in {filename}: {ds.StudyID}\")\n",
    "            else:\n",
    "                print(f\"StudyID missing in {filename}. Adding it now.\")\n",
    "            \n",
    "            # Set or update the StudyID\n",
    "            ds.StudyID = new_study_id\n",
    "            \n",
    "            # Save the file in place (overwrite the original file)\n",
    "            ds.save_as(file_path)\n",
    "            print(f\"Updated StudyID for {filename} and saved in place.\")\n",
    "        \n",
    "        except Exception as e:\n",
    "            print(f\"Failed to process {filename}: {e}\")\n",
    "\n",
    "print(\"Processing complete.\")"
   ]
  },
  {
   "cell_type": "code",
   "execution_count": 54,
   "id": "d038bf2f-b168-4d40-9160-3db0dc712637",
   "metadata": {},
   "outputs": [],
   "source": [
    "import highdicom as hd\n",
    "from pydicom.sr.codedict import codes\n",
    "description = hd.seg.SegmentDescription(\n",
    "    segment_number=1,\n",
    "    segment_label='Tumor',\n",
    "    segmented_property_category=codes.SCT.Blood,\n",
    "    segmented_property_type=codes.SCT.Blood,\n",
    "    algorithm_type=hd.seg.SegmentAlgorithmTypeValues.MANUAL,\n",
    ")"
   ]
  },
  {
   "cell_type": "code",
   "execution_count": 55,
   "id": "99ae5719-9e45-42e8-9b31-ff5c09216669",
   "metadata": {},
   "outputs": [],
   "source": [
    "dicom_output_directory = 'dicom-output-directory'\n",
    "files = os.listdir(dicom_output_directory)\n",
    "files = sorted(files)\n",
    "maskDict = {}\n",
    "maskDict['Tumor'] = []\n",
    "source_images = []\n",
    "i = 0\n",
    "for file in files:\n",
    "    file_path = os.path.join(dicom_output_directory, file)\n",
    "    source_images.append(pydicom.dcmread(file_path))\n",
    "    slice1 = data[:,:,i]\n",
    "    maskDict['Tumor'].append(np.array(slice1))\n",
    "    i = i+ 1\n",
    "    "
   ]
  },
  {
   "cell_type": "code",
   "execution_count": 56,
   "id": "75ed47bd-ca5d-420f-a13c-96e9cd6cffdd",
   "metadata": {},
   "outputs": [],
   "source": [
    "mask = []\n",
    "for key,value in maskDict.items():\n",
    "    mask.append(np.stack(value, axis=0))"
   ]
  },
  {
   "cell_type": "code",
   "execution_count": 58,
   "id": "cef8ebe8-c443-43e2-8b3a-c3c68f1960a2",
   "metadata": {},
   "outputs": [],
   "source": [
    "seg_obj.save_as('dicom-output-directory/AI.dcm')"
   ]
  },
  {
   "cell_type": "code",
   "execution_count": 57,
   "id": "94bd36c4-72e0-4593-873c-3be8504a4e48",
   "metadata": {},
   "outputs": [],
   "source": [
    "mask = np.stack(mask, axis=3)\n",
    "seg_obj = hd.seg.Segmentation(\n",
    "    source_images=source_images,\n",
    "    pixel_array=mask,\n",
    "    segmentation_type=hd.seg.SegmentationTypeValues.BINARY,\n",
    "    segment_descriptions=[description],\n",
    "    series_instance_uid=hd.UID(),\n",
    "    series_number=1,\n",
    "    sop_instance_uid=hd.UID(),\n",
    "    instance_number=1,\n",
    "    manufacturer='Radpretation ai',\n",
    "    manufacturer_model_name='Brain structure Segmentation Algorithm',\n",
    "    software_versions='0.0.1',\n",
    "    device_serial_number='1234567890'\n",
    ")"
   ]
  },
  {
   "cell_type": "code",
   "execution_count": 46,
   "id": "68de122f-aeec-41e6-af57-510103896570",
   "metadata": {},
   "outputs": [],
   "source": [
    "dicom_output_directory = 'dicom-output-directory'\n",
    "\n",
    "for dcm in os.listdir(dicom_output_directory):\n",
    "    os.rename(os.path.join(dicom_output_directory,dcm),os.path.join(dicom_output_directory,dcm)+'.dcm')"
   ]
  },
  {
   "cell_type": "code",
   "execution_count": null,
   "id": "fa6b123c-937a-4209-942e-0c2f2373736b",
   "metadata": {},
   "outputs": [],
   "source": []
  }
 ],
 "metadata": {
  "kernelspec": {
   "display_name": "Python 3 (ipykernel)",
   "language": "python",
   "name": "python3"
  },
  "language_info": {
   "codemirror_mode": {
    "name": "ipython",
    "version": 3
   },
   "file_extension": ".py",
   "mimetype": "text/x-python",
   "name": "python",
   "nbconvert_exporter": "python",
   "pygments_lexer": "ipython3",
   "version": "3.11.11"
  }
 },
 "nbformat": 4,
 "nbformat_minor": 5
}
